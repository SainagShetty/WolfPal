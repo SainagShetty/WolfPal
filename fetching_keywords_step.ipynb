{
 "cells": [
  {
   "cell_type": "code",
   "execution_count": 59,
   "metadata": {},
   "outputs": [],
   "source": [
    "from nltk.corpus import stopwords\n",
    "from nltk.tokenize import word_tokenize\n",
    "from nltk.tokenize import RegexpTokenizer\n",
    "from nltk import pos_tag\n",
    "from nltk.stem import PorterStemmer, WordNetLemmatizer\n",
    "import re\n",
    "import nltk\n",
    "import pprint as pp\n",
    "import db_scripts\n",
    "import pprint\n",
    "import pickle"
   ]
  },
  {
   "cell_type": "code",
   "execution_count": 60,
   "metadata": {},
   "outputs": [],
   "source": [
    "def get_credentials():\n",
    "    pkl_file = open('.cred.pkl', 'rb')\n",
    "    data = pickle.load(pkl_file)\n",
    "    return data[0], data[1], data[2], date[3]"
   ]
  },
  {
   "cell_type": "code",
   "execution_count": 61,
   "metadata": {},
   "outputs": [],
   "source": [
    "def load_stop_words(stop_word_file):\n",
    "    stop_words = []\n",
    "    fo = open(stop_word_file)\n",
    "    for line in fo:\n",
    "        if line.strip()[0:1] != \"#\":\n",
    "            for word in line.split():  # in case more than one per line\n",
    "                stop_words.append(word)\n",
    "    fo.close()\n",
    "    return stop_words"
   ]
  },
  {
   "cell_type": "code",
   "execution_count": 77,
   "metadata": {},
   "outputs": [],
   "source": [
    "def load_keywords_from_bucket(keyword_file):\n",
    "    word_map = dict()\n",
    "    file = open(keyword_file)\n",
    "    for line in file:\n",
    "        key = line.split(':')\n",
    "        #print(key)\n",
    "        x, y = Keywords(key[1]).fetch()\n",
    "        y = list(set(y))\n",
    "        if key[0] in word_map:\n",
    "            val = word_map[key[0]]\n",
    "            val = [j for i in zip(val,y) for j in i]\n",
    "            word_map[key[0]] = val\n",
    "        else:\n",
    "#             val = list()\n",
    "#             val.append(y)\n",
    "            word_map[key[0]] = y\n",
    "    file.close()\n",
    "    return word_map\n",
    "x = load_keywords_from_bucket('keywords.txt')\n",
    "fp = open('keywords.json','w')\n",
    "import json\n",
    "json.dump(x, fp, sort_keys=True, indent=4)\n",
    "fp.close()"
   ]
  },
  {
   "cell_type": "code",
   "execution_count": 63,
   "metadata": {},
   "outputs": [],
   "source": [
    "def remove_puncts(text):\n",
    "    tokenizer = RegexpTokenizer(r'\\w+')\n",
    "    words_no_punct = tokenizer.tokenize(text)\n",
    "    data = ' '.join(words_no_punct)\n",
    "    return data"
   ]
  },
  {
   "cell_type": "code",
   "execution_count": 64,
   "metadata": {},
   "outputs": [],
   "source": [
    "def is_number(s):\n",
    "    try:\n",
    "        float(s) if '.' in s else int(s)\n",
    "        return True\n",
    "    except ValueError:\n",
    "        return False"
   ]
  },
  {
   "cell_type": "code",
   "execution_count": 65,
   "metadata": {},
   "outputs": [],
   "source": [
    "def generate_candidate_keywords(data, stop_words):\n",
    "    words = [w for w in word_tokenize(\n",
    "        data) if w.lower() not in stop_words and not is_number(w)]\n",
    "    return words"
   ]
  },
  {
   "cell_type": "code",
   "execution_count": 66,
   "metadata": {},
   "outputs": [],
   "source": [
    "def stem_lemmatize(keywords):\n",
    "    lemmatizer = WordNetLemmatizer()\n",
    "    stemmer = PorterStemmer()\n",
    "    tokenizer = RegexpTokenizer(r'\\w+')\n",
    "    x = []\n",
    "    y = []\n",
    "    for word in keywords:\n",
    "        x.append(stemmer.stem(word))\n",
    "        y.append(lemmatizer.lemmatize(word))\n",
    "    return x"
   ]
  },
  {
   "cell_type": "code",
   "execution_count": 67,
   "metadata": {},
   "outputs": [],
   "source": [
    "def get_percentage_mapping(topic, lemma):\n",
    "    mapping = [value for value in topic if value in lemma]\n",
    "    #mapping = [list(filter(lambda x: x in topic, sublist)) for sublist in lemma]\n",
    "    #print(mapping)\n",
    "    return (len(mapping)/len(topic))"
   ]
  },
  {
   "cell_type": "code",
   "execution_count": 10,
   "metadata": {},
   "outputs": [],
   "source": [
    "def assign_topic(cname, domain):\n",
    "    username, password, db_name, collection_name = get_credentials()\n",
    "    db = db_scripts.db_connect(username, password, db_name)\n",
    "    row = db_scripts.db_retrieve(username, password, db_name, collection_name, \"CSC\", \"510\")\n",
    "    #insert a topid attribute in the row and push it back to the database."
   ]
  },
  {
   "cell_type": "code",
   "execution_count": 68,
   "metadata": {},
   "outputs": [],
   "source": [
    "class Keywords:\n",
    "    def __init__(self, text):\n",
    "        self.text = text\n",
    "        self.stop_words = load_stop_words(\"FoxStopList.txt\")\n",
    "\n",
    "    def fetch(self):\n",
    "        candidate = remove_puncts(self.text)\n",
    "        keywords = generate_candidate_keywords(candidate, self.stop_words)\n",
    "        # table = stem_lemmatize(keywords)\n",
    "        st = stem_lemmatize(keywords)\n",
    "        return keywords, st\n",
    "    def map_keywords(self):\n",
    "        topic_map = load_keywords_from_bucket(\"keywords.txt\")\n",
    "        stem, lemma = self.fetch()\n",
    "        percent_mapping = {}\n",
    "        topic = ''\n",
    "        maxi = 0\n",
    "        for key in topic_map.keys():\n",
    "            percent = get_percentage_mapping(topic_map[key],lemma)\n",
    "            percent_mapping[key] = percent        \n",
    "        return percent_mapping"
   ]
  },
  {
   "cell_type": "code",
   "execution_count": 69,
   "metadata": {},
   "outputs": [],
   "source": [
    "alda = \"Introduction to the problems and techniques for automated discovery of knowledge in databases. Topics include representation, evaluation, and formalization of knowledge for discovery; classification, prediction, clustering, and association methods.Selected applications in commerce, security, and bioinformatics. Students cannot get credit for both CSC 422 and CSC 522.\"\n",
    "algo = \"Algorithm design techniques: use of data structures, divide and conquer, dynamic programming, greedy techniques, local and global search. Complexity and analysis of algorithms: asymptotic analysis, worst case and average case, recurrences, lower bounds, NP-completeness. Algorithms for classical problems including sorting, searching and graph problems (connectivity, shortest paths, minimum spanning trees).\"\n",
    "os = \"Fundamental issues related to the design of operating systems. Process scheduling and coordination, deadlock, memory management and elements of distributed systems.\"\n",
    "ai = \"Introduction to and overview of artificial intelligence. Study of AI programming language such as LISP or PROLOG. Elements of AI problem-solving technique. State spaces and search techniques. Logic, theorem proving and associative databases. Introduction to knowledge representation, expert systems and selected topics including natural language processing, vision and robotics.\"\n",
    "ads = \"Complex and specialized data structures relevant to design and development of effective and efficient software. Hardware characteristics of storage media. Primary file organizations. Hashing functions and collision resolution techniques. Low level and bit level structures including signatures, superimposed coding, disjoint coding and Bloom filters. Tree and related structures including AVL trees, B*trees, tries and dynamic hashing techniques.\""
   ]
  },
  {
   "cell_type": "code",
   "execution_count": 57,
   "metadata": {},
   "outputs": [],
   "source": [
    "#topic, percent = Keywords(ai).map_keywords()\n",
    "#topic, percent = Keywords(alda).map_keywords()\n",
    "#topic, percent = Keywords(os).map_keywords()\n",
    "# topic, percent = Keywords(algo).map_keywords()\n",
    "percent = Keywords(ads).map_keywords()"
   ]
  },
  {
   "cell_type": "code",
   "execution_count": 58,
   "metadata": {},
   "outputs": [
    {
     "name": "stdout",
     "output_type": "stream",
     "text": [
      "[('Algorithm', 0.25925925925925924), ('Systems', 0.1111111111111111)]\n"
     ]
    }
   ],
   "source": [
    "# pprint.pprint(percent)\n",
    "percent = sorted(percent.items(), key=lambda x:x[1])\n",
    "pprint.pprint(percent[::-1][:2])"
   ]
  },
  {
   "cell_type": "code",
   "execution_count": 26,
   "metadata": {},
   "outputs": [],
   "source": [
    "import pandas as pd\n",
    "df = pd.DataFrame().from_dict(d)"
   ]
  },
  {
   "cell_type": "code",
   "execution_count": 27,
   "metadata": {},
   "outputs": [
    {
     "data": {
      "text/html": [
       "<div>\n",
       "<style scoped>\n",
       "    .dataframe tbody tr th:only-of-type {\n",
       "        vertical-align: middle;\n",
       "    }\n",
       "\n",
       "    .dataframe tbody tr th {\n",
       "        vertical-align: top;\n",
       "    }\n",
       "\n",
       "    .dataframe thead th {\n",
       "        text-align: right;\n",
       "    }\n",
       "</style>\n",
       "<table border=\"1\" class=\"dataframe\">\n",
       "  <thead>\n",
       "    <tr style=\"text-align: right;\">\n",
       "      <th></th>\n",
       "      <th>applic</th>\n",
       "      <th>associ</th>\n",
       "      <th>autom</th>\n",
       "      <th>bioinformat</th>\n",
       "      <th>classif</th>\n",
       "      <th>cluster</th>\n",
       "      <th>commerc</th>\n",
       "      <th>databas</th>\n",
       "      <th>discoveri</th>\n",
       "      <th>evalu</th>\n",
       "      <th>formal</th>\n",
       "      <th>knowledg</th>\n",
       "      <th>method</th>\n",
       "      <th>predict</th>\n",
       "      <th>represent</th>\n",
       "      <th>secur</th>\n",
       "    </tr>\n",
       "  </thead>\n",
       "  <tbody>\n",
       "    <tr>\n",
       "      <th>0</th>\n",
       "      <td>CSC522</td>\n",
       "      <td>CSC522</td>\n",
       "      <td>CSC522</td>\n",
       "      <td>CSC522</td>\n",
       "      <td>CSC522</td>\n",
       "      <td>CSC522</td>\n",
       "      <td>CSC522</td>\n",
       "      <td>CSC522</td>\n",
       "      <td>CSC522</td>\n",
       "      <td>CSC522</td>\n",
       "      <td>CSC522</td>\n",
       "      <td>CSC522</td>\n",
       "      <td>CSC522</td>\n",
       "      <td>CSC522</td>\n",
       "      <td>CSC522</td>\n",
       "      <td>CSC522</td>\n",
       "    </tr>\n",
       "  </tbody>\n",
       "</table>\n",
       "</div>"
      ],
      "text/plain": [
       "   applic  associ   autom bioinformat classif cluster commerc databas  \\\n",
       "0  CSC522  CSC522  CSC522      CSC522  CSC522  CSC522  CSC522  CSC522   \n",
       "\n",
       "  discoveri   evalu  formal knowledg  method predict represent   secur  \n",
       "0    CSC522  CSC522  CSC522   CSC522  CSC522  CSC522    CSC522  CSC522  "
      ]
     },
     "execution_count": 27,
     "metadata": {},
     "output_type": "execute_result"
    }
   ],
   "source": [
    "df"
   ]
  },
  {
   "cell_type": "code",
   "execution_count": 28,
   "metadata": {},
   "outputs": [
    {
     "data": {
      "text/html": [
       "<div>\n",
       "<style scoped>\n",
       "    .dataframe tbody tr th:only-of-type {\n",
       "        vertical-align: middle;\n",
       "    }\n",
       "\n",
       "    .dataframe tbody tr th {\n",
       "        vertical-align: top;\n",
       "    }\n",
       "\n",
       "    .dataframe thead th {\n",
       "        text-align: right;\n",
       "    }\n",
       "</style>\n",
       "<table border=\"1\" class=\"dataframe\">\n",
       "  <thead>\n",
       "    <tr style=\"text-align: right;\">\n",
       "      <th></th>\n",
       "      <th>evalu</th>\n",
       "      <th>classif</th>\n",
       "      <th>associ</th>\n",
       "      <th>commerc</th>\n",
       "      <th>autom</th>\n",
       "      <th>formal</th>\n",
       "      <th>applic</th>\n",
       "      <th>bioinformat</th>\n",
       "      <th>cluster</th>\n",
       "      <th>databas</th>\n",
       "      <th>discoveri</th>\n",
       "      <th>method</th>\n",
       "      <th>secur</th>\n",
       "      <th>represent</th>\n",
       "      <th>knowledg</th>\n",
       "      <th>predict</th>\n",
       "    </tr>\n",
       "  </thead>\n",
       "  <tbody>\n",
       "    <tr>\n",
       "      <th>0</th>\n",
       "      <td>CSC522</td>\n",
       "      <td>CSC522</td>\n",
       "      <td>CSC522</td>\n",
       "      <td>CSC522</td>\n",
       "      <td>CSC522</td>\n",
       "      <td>CSC522</td>\n",
       "      <td>CSC522</td>\n",
       "      <td>CSC522</td>\n",
       "      <td>CSC522</td>\n",
       "      <td>CSC522</td>\n",
       "      <td>CSC522</td>\n",
       "      <td>CSC522</td>\n",
       "      <td>CSC522</td>\n",
       "      <td>CSC522</td>\n",
       "      <td>CSC522</td>\n",
       "      <td>CSC522</td>\n",
       "    </tr>\n",
       "    <tr>\n",
       "      <th>1</th>\n",
       "      <td>None</td>\n",
       "      <td>None</td>\n",
       "      <td>None</td>\n",
       "      <td>None</td>\n",
       "      <td>None</td>\n",
       "      <td>None</td>\n",
       "      <td>None</td>\n",
       "      <td>None</td>\n",
       "      <td>None</td>\n",
       "      <td>None</td>\n",
       "      <td>None</td>\n",
       "      <td>None</td>\n",
       "      <td>None</td>\n",
       "      <td>None</td>\n",
       "      <td>None</td>\n",
       "      <td>CSC501</td>\n",
       "    </tr>\n",
       "  </tbody>\n",
       "</table>\n",
       "</div>"
      ],
      "text/plain": [
       "    evalu classif  associ commerc   autom  formal  applic bioinformat cluster  \\\n",
       "0  CSC522  CSC522  CSC522  CSC522  CSC522  CSC522  CSC522      CSC522  CSC522   \n",
       "1    None    None    None    None    None    None    None        None    None   \n",
       "\n",
       "  databas discoveri  method   secur represent knowledg predict  \n",
       "0  CSC522    CSC522  CSC522  CSC522    CSC522   CSC522  CSC522  \n",
       "1    None      None    None    None      None     None  CSC501  "
      ]
     },
     "execution_count": 28,
     "metadata": {},
     "output_type": "execute_result"
    }
   ],
   "source": [
    "d['predict'].append('CSC501')\n",
    "df = pd.DataFrame().from_dict(d,orient='index').transpose()\n",
    "df"
   ]
  },
  {
   "cell_type": "code",
   "execution_count": 29,
   "metadata": {},
   "outputs": [
    {
     "name": "stdout",
     "output_type": "stream",
     "text": [
      "Authentication Successful.\n"
     ]
    }
   ],
   "source": [
    "import db_scripts\n",
    "all_courses = db_scripts.db_fetch_all(\"wolfpal\", \"courses\")"
   ]
  },
  {
   "cell_type": "code",
   "execution_count": 30,
   "metadata": {},
   "outputs": [],
   "source": [
    "from collections import defaultdict\n",
    "d = defaultdict()"
   ]
  },
  {
   "cell_type": "code",
   "execution_count": 31,
   "metadata": {},
   "outputs": [],
   "source": [
    "for course in all_courses:\n",
    "    l, p = Keywords(course['desc']).fetch()\n",
    "    # print(course['desc'])\n",
    "    p = set(p)\n",
    "    for i in p:\n",
    "        if i in d:\n",
    "            d[i].append(course['branch']+course['number'])\n",
    "        else:\n",
    "            d[i] = [(course['branch']+course['number'])]"
   ]
  },
  {
   "cell_type": "code",
   "execution_count": 33,
   "metadata": {},
   "outputs": [],
   "source": [
    "import pandas as pd\n",
    "df = pd.DataFrame().from_dict(d,orient='index').transpose()"
   ]
  },
  {
   "cell_type": "code",
   "execution_count": 34,
   "metadata": {},
   "outputs": [
    {
     "data": {
      "text/html": [
       "<div>\n",
       "<style scoped>\n",
       "    .dataframe tbody tr th:only-of-type {\n",
       "        vertical-align: middle;\n",
       "    }\n",
       "\n",
       "    .dataframe tbody tr th {\n",
       "        vertical-align: top;\n",
       "    }\n",
       "\n",
       "    .dataframe thead th {\n",
       "        text-align: right;\n",
       "    }\n",
       "</style>\n",
       "<table border=\"1\" class=\"dataframe\">\n",
       "  <thead>\n",
       "    <tr style=\"text-align: right;\">\n",
       "      <th></th>\n",
       "      <th>system</th>\n",
       "      <th>element</th>\n",
       "      <th>design</th>\n",
       "      <th>distribut</th>\n",
       "      <th>manag</th>\n",
       "      <th>deadlock</th>\n",
       "      <th>relat</th>\n",
       "      <th>schedul</th>\n",
       "      <th>memori</th>\n",
       "      <th>issu</th>\n",
       "      <th>...</th>\n",
       "      <th>program</th>\n",
       "      <th>prove</th>\n",
       "      <th>techniqu</th>\n",
       "      <th>represent</th>\n",
       "      <th>artifici</th>\n",
       "      <th>databas</th>\n",
       "      <th>intellig</th>\n",
       "      <th>natur</th>\n",
       "      <th>knowledg</th>\n",
       "      <th>space</th>\n",
       "    </tr>\n",
       "  </thead>\n",
       "  <tbody>\n",
       "    <tr>\n",
       "      <th>0</th>\n",
       "      <td>CSC501</td>\n",
       "      <td>CSC501</td>\n",
       "      <td>CSC501</td>\n",
       "      <td>CSC501</td>\n",
       "      <td>CSC501</td>\n",
       "      <td>CSC501</td>\n",
       "      <td>CSC501</td>\n",
       "      <td>CSC501</td>\n",
       "      <td>CSC501</td>\n",
       "      <td>CSC501</td>\n",
       "      <td>...</td>\n",
       "      <td>CSC520</td>\n",
       "      <td>CSC520</td>\n",
       "      <td>CSC520</td>\n",
       "      <td>CSC520</td>\n",
       "      <td>CSC520</td>\n",
       "      <td>CSC520</td>\n",
       "      <td>CSC520</td>\n",
       "      <td>CSC520</td>\n",
       "      <td>CSC520</td>\n",
       "      <td>CSC520</td>\n",
       "    </tr>\n",
       "    <tr>\n",
       "      <th>1</th>\n",
       "      <td>CSC520</td>\n",
       "      <td>CSC520</td>\n",
       "      <td>CSC510</td>\n",
       "      <td>None</td>\n",
       "      <td>CSC510</td>\n",
       "      <td>None</td>\n",
       "      <td>CSC541</td>\n",
       "      <td>CSC510</td>\n",
       "      <td>None</td>\n",
       "      <td>None</td>\n",
       "      <td>...</td>\n",
       "      <td>None</td>\n",
       "      <td>None</td>\n",
       "      <td>None</td>\n",
       "      <td>None</td>\n",
       "      <td>None</td>\n",
       "      <td>None</td>\n",
       "      <td>None</td>\n",
       "      <td>None</td>\n",
       "      <td>None</td>\n",
       "      <td>None</td>\n",
       "    </tr>\n",
       "    <tr>\n",
       "      <th>2</th>\n",
       "      <td>None</td>\n",
       "      <td>None</td>\n",
       "      <td>CSC541</td>\n",
       "      <td>None</td>\n",
       "      <td>None</td>\n",
       "      <td>None</td>\n",
       "      <td>None</td>\n",
       "      <td>None</td>\n",
       "      <td>None</td>\n",
       "      <td>None</td>\n",
       "      <td>...</td>\n",
       "      <td>None</td>\n",
       "      <td>None</td>\n",
       "      <td>None</td>\n",
       "      <td>None</td>\n",
       "      <td>None</td>\n",
       "      <td>None</td>\n",
       "      <td>None</td>\n",
       "      <td>None</td>\n",
       "      <td>None</td>\n",
       "      <td>None</td>\n",
       "    </tr>\n",
       "  </tbody>\n",
       "</table>\n",
       "<p>3 rows × 98 columns</p>\n",
       "</div>"
      ],
      "text/plain": [
       "   system element  design distribut   manag deadlock   relat schedul  memori  \\\n",
       "0  CSC501  CSC501  CSC501    CSC501  CSC501   CSC501  CSC501  CSC501  CSC501   \n",
       "1  CSC520  CSC520  CSC510      None  CSC510     None  CSC541  CSC510    None   \n",
       "2    None    None  CSC541      None    None     None    None    None    None   \n",
       "\n",
       "     issu   ...   program   prove techniqu represent artifici databas  \\\n",
       "0  CSC501   ...    CSC520  CSC520   CSC520    CSC520   CSC520  CSC520   \n",
       "1    None   ...      None    None     None      None     None    None   \n",
       "2    None   ...      None    None     None      None     None    None   \n",
       "\n",
       "  intellig   natur knowledg   space  \n",
       "0   CSC520  CSC520   CSC520  CSC520  \n",
       "1     None    None     None    None  \n",
       "2     None    None     None    None  \n",
       "\n",
       "[3 rows x 98 columns]"
      ]
     },
     "execution_count": 34,
     "metadata": {},
     "output_type": "execute_result"
    }
   ],
   "source": [
    "df"
   ]
  },
  {
   "cell_type": "code",
   "execution_count": 35,
   "metadata": {},
   "outputs": [
    {
     "name": "stdout",
     "output_type": "stream",
     "text": [
      "['AI', 'system']\n"
     ]
    }
   ],
   "source": [
    "usersays = \"I like AI and systems\"\n",
    "p,l = Keywords(usersays).fetch()\n",
    "print(l)"
   ]
  },
  {
   "cell_type": "code",
   "execution_count": 36,
   "metadata": {},
   "outputs": [
    {
     "name": "stdout",
     "output_type": "stream",
     "text": [
      "Yeh course le:  ['CSC520']\n",
      "Yeh course le:  ['CSC501', 'CSC520']\n"
     ]
    }
   ],
   "source": [
    "for i in l:\n",
    "    if i in d:\n",
    "        print(\"Yeh course le: \",d[i])"
   ]
  },
  {
   "cell_type": "code",
   "execution_count": null,
   "metadata": {},
   "outputs": [],
   "source": []
  }
 ],
 "metadata": {
  "kernelspec": {
   "display_name": "Python 3",
   "language": "python",
   "name": "python3"
  },
  "language_info": {
   "codemirror_mode": {
    "name": "ipython",
    "version": 3
   },
   "file_extension": ".py",
   "mimetype": "text/x-python",
   "name": "python",
   "nbconvert_exporter": "python",
   "pygments_lexer": "ipython3",
   "version": "3.6.4"
  }
 },
 "nbformat": 4,
 "nbformat_minor": 2
}

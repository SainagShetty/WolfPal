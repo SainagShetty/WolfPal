{
 "cells": [
  {
   "cell_type": "code",
   "execution_count": 12,
   "metadata": {},
   "outputs": [],
   "source": [
    "from nltk.corpus import stopwords\n",
    "from nltk.tokenize import word_tokenize\n",
    "from nltk.tokenize import RegexpTokenizer\n",
    "from nltk import pos_tag\n",
    "from nltk.stem import PorterStemmer, WordNetLemmatizer\n",
    "import re\n",
    "import nltk\n",
    "import pprint as pp\n",
    "import db_scripts\n",
    "import pprint"
   ]
  },
  {
   "cell_type": "code",
   "execution_count": 13,
   "metadata": {},
   "outputs": [],
   "source": [
    "def load_stop_words(stop_word_file):\n",
    "    stop_words = []\n",
    "    fo = open(stop_word_file)\n",
    "    for line in fo:\n",
    "        if line.strip()[0:1] != \"#\":\n",
    "            for word in line.split():  # in case more than one per line\n",
    "                stop_words.append(word)\n",
    "    fo.close()\n",
    "    return stop_words"
   ]
  },
  {
   "cell_type": "code",
   "execution_count": 192,
   "metadata": {},
   "outputs": [
    {
     "name": "stdout",
     "output_type": "stream",
     "text": [
      "{'Data Science': ['tableau',\n",
      "                  'cluster',\n",
      "                  'python',\n",
      "                  'analyt',\n",
      "                  'associ',\n",
      "                  'mine',\n",
      "                  'supervis',\n",
      "                  'classif',\n",
      "                  'bioinformat',\n",
      "                  'predict',\n",
      "                  'data',\n",
      "                  'unsupervis',\n",
      "                  'learn',\n",
      "                  'machin',\n",
      "                  'regress',\n",
      "                  'artifici',\n",
      "                  'databas',\n",
      "                  'visual',\n",
      "                  'intellig',\n",
      "                  'discoveri',\n",
      "                  'knowledg'],\n",
      " 'Hardware': ['microcontrol',\n",
      "              'archotectur',\n",
      "              'design',\n",
      "              'assembl',\n",
      "              'asic',\n",
      "              'micro',\n",
      "              'microprocessor',\n",
      "              'parallel'],\n",
      " 'Networking': ['signal',\n",
      "                'lan',\n",
      "                'router',\n",
      "                'internet',\n",
      "                'wan',\n",
      "                'mobil',\n",
      "                'packet',\n",
      "                'hub',\n",
      "                'layer',\n",
      "                'switch',\n",
      "                'protocol',\n",
      "                'firewal',\n",
      "                'secur',\n",
      "                'host',\n",
      "                'encrypt',\n",
      "                'handshak',\n",
      "                'wireless',\n",
      "                'hash',\n",
      "                'wifi',\n",
      "                'tcp',\n",
      "                'connect',\n",
      "                'commun',\n",
      "                'network',\n",
      "                'snif'],\n",
      " 'Software Engineering': ['test',\n",
      "                          'devop',\n",
      "                          'develop',\n",
      "                          'python',\n",
      "                          'angularj',\n",
      "                          'game',\n",
      "                          'css',\n",
      "                          'web',\n",
      "                          'framework',\n",
      "                          'nodej',\n",
      "                          'rubi',\n",
      "                          'entiti',\n",
      "                          'sql',\n",
      "                          'mysqldb',\n",
      "                          'javascript',\n",
      "                          'softwar',\n",
      "                          'product',\n",
      "                          'distribut',\n",
      "                          'bug',\n",
      "                          'servic',\n",
      "                          'secur',\n",
      "                          'mongodb',\n",
      "                          'engin',\n",
      "                          'reliabl',\n",
      "                          'java',\n",
      "                          'nosql',\n",
      "                          'aw',\n",
      "                          'scrap',\n",
      "                          'code',\n",
      "                          'databas',\n",
      "                          'html',\n",
      "                          'oper'],\n",
      " 'Systems': ['parallel',\n",
      "             'system',\n",
      "             'lock',\n",
      "             'thread',\n",
      "             'kernel',\n",
      "             'resourc',\n",
      "             'architectur',\n",
      "             'file',\n",
      "             'firewal',\n",
      "             'deadlock',\n",
      "             'disk',\n",
      "             'schedul',\n",
      "             'semaphor',\n",
      "             'comput',\n",
      "             'hardwar',\n",
      "             'assembl',\n",
      "             'secur',\n",
      "             'oper']}\n"
     ]
    }
   ],
   "source": [
    "def load_keywords_from_bucket(keyword_file):\n",
    "    word_map = dict()\n",
    "    file = open(keyword_file)\n",
    "    for line in file:\n",
    "        key = line.split(':')\n",
    "        #print(key)\n",
    "        x, y = Keywords(key[1]).fetch()\n",
    "        y = list(set(y))\n",
    "        if key[0] in word_map:\n",
    "            val = word_map[key[0]]\n",
    "            val = [j for i in zip(val,y) for j in i]\n",
    "            word_map[key[0]] = val\n",
    "        else:\n",
    "#             val = list()\n",
    "#             val.append(y)\n",
    "            word_map[key[0]] = y\n",
    "    return word_map\n",
    "    file.close()\n",
    "x = load_keywords_from_bucket('keywords.txt')\n",
    "pprint.pprint(x)"
   ]
  },
  {
   "cell_type": "code",
   "execution_count": 181,
   "metadata": {},
   "outputs": [],
   "source": [
    "def remove_puncts(text):\n",
    "    tokenizer = RegexpTokenizer(r'\\w+')\n",
    "    words_no_punct = tokenizer.tokenize(text)\n",
    "    data = ' '.join(words_no_punct)\n",
    "    return data"
   ]
  },
  {
   "cell_type": "code",
   "execution_count": 182,
   "metadata": {},
   "outputs": [],
   "source": [
    "def is_number(s):\n",
    "    try:\n",
    "        float(s) if '.' in s else int(s)\n",
    "        return True\n",
    "    except ValueError:\n",
    "        return False"
   ]
  },
  {
   "cell_type": "code",
   "execution_count": 183,
   "metadata": {},
   "outputs": [],
   "source": [
    "def generate_candidate_keywords(data, stop_words):\n",
    "    words = [w for w in word_tokenize(\n",
    "        data) if w.lower() not in stop_words and not is_number(w)]\n",
    "    return words"
   ]
  },
  {
   "cell_type": "code",
   "execution_count": 184,
   "metadata": {},
   "outputs": [],
   "source": [
    "def stem_lemmatize(keywords):\n",
    "    lemmatizer = WordNetLemmatizer()\n",
    "    stemmer = PorterStemmer()\n",
    "    tokenizer = RegexpTokenizer(r'\\w+')\n",
    "#     table.column_headers = [\"Actual\", \"Lemmatize\", \"Stem\"]\n",
    "    x = []\n",
    "    y = []\n",
    "    for word in keywords:\n",
    "        x.append(stemmer.stem(word))\n",
    "        y.append(lemmatizer.lemmatize(word))\n",
    "    return x"
   ]
  },
  {
   "cell_type": "code",
   "execution_count": 199,
   "metadata": {},
   "outputs": [],
   "source": [
    "def get_percentage_mapping(topic, lemma):\n",
    "    mapping = [value for value in topic if value in lemma]\n",
    "    #mapping = [list(filter(lambda x: x in topic, sublist)) for sublist in lemma]\n",
    "    #print(mapping)\n",
    "    return (len(mapping)/len(topic))"
   ]
  },
  {
   "cell_type": "code",
   "execution_count": 201,
   "metadata": {},
   "outputs": [],
   "source": [
    "class Keywords:\n",
    "    def __init__(self, text):\n",
    "        self.text = text\n",
    "        self.stop_words = load_stop_words(\"FoxStopList.txt\")\n",
    "\n",
    "    def fetch(self):\n",
    "        candidate = remove_puncts(self.text)\n",
    "        keywords = generate_candidate_keywords(candidate, self.stop_words)\n",
    "        # table = stem_lemmatize(keywords)\n",
    "        st = stem_lemmatize(keywords)\n",
    "        return keywords, st\n",
    "    def map_keywords(self):\n",
    "        topic_map = load_keywords_from_bucket(\"keywords.txt\")\n",
    "        stem, lemma = self.fetch()\n",
    "        percent_mapping = {}\n",
    "        for key in topic_map.keys():\n",
    "            percent = get_percentage_mapping(topic_map[key],lemma)\n",
    "            percent_mapping[key] = percent\n",
    "        return percent_mapping"
   ]
  },
  {
   "cell_type": "code",
   "execution_count": 204,
   "metadata": {},
   "outputs": [],
   "source": [
    "alda = \"Introduction to the problems and techniques for automated discovery of knowledge in databases. Topics include representation, evaluation, and formalization of knowledge for discovery; classification, prediction, clustering, and association methods.Selected applications in commerce, security, and bioinformatics. Students cannot get credit for both CSC 422 and CSC 522.\"\n",
    "algo = \"Algorithm design techniques: use of data structures, divide and conquer, dynamic programming, greedy techniques, local and global search. Complexity and analysis of algorithms: asymptotic analysis, worst case and average case, recurrences, lower bounds, NP-completeness. Algorithms for classical problems including sorting, searching and graph problems (connectivity, shortest paths, minimum spanning trees).\"\n",
    "os = \"Fundamental issues related to the design of operating systems. Process scheduling and coordination, deadlock, memory management and elements of distributed systems.\""
   ]
  },
  {
   "cell_type": "code",
   "execution_count": 205,
   "metadata": {},
   "outputs": [],
   "source": [
    "percent_mapping_alda = Keywords(alda).map_keywords()\n",
    "percent_mapping_os = Keywords(os).map_keywords()\n",
    "percent_mapping_algo = Keywords(algo).map_keywords()"
   ]
  },
  {
   "cell_type": "code",
   "execution_count": 206,
   "metadata": {},
   "outputs": [
    {
     "name": "stdout",
     "output_type": "stream",
     "text": [
      "{'Data Science': 0.38095238095238093,\n",
      " 'Hardware': 0.0,\n",
      " 'Networking': 0.041666666666666664,\n",
      " 'Software Engineering': 0.0625,\n",
      " 'Systems': 0.05555555555555555}\n",
      "{'Data Science': 0.047619047619047616,\n",
      " 'Hardware': 0.125,\n",
      " 'Networking': 0.041666666666666664,\n",
      " 'Software Engineering': 0.0,\n",
      " 'Systems': 0.0}\n",
      "{'Data Science': 0.0,\n",
      " 'Hardware': 0.125,\n",
      " 'Networking': 0.0,\n",
      " 'Software Engineering': 0.0625,\n",
      " 'Systems': 0.2222222222222222}\n"
     ]
    }
   ],
   "source": [
    "pprint.pprint(percent_mapping_alda)\n",
    "pprint.pprint(percent_mapping_algo)\n",
    "pprint.pprint(percent_mapping_os)"
   ]
  },
  {
   "cell_type": "code",
   "execution_count": 140,
   "metadata": {},
   "outputs": [
    {
     "name": "stdout",
     "output_type": "stream",
     "text": [
      "['autom', 'discoveri', 'knowledg', 'databas', 'represent', 'evalu', 'formal', 'knowledg', 'discoveri', 'classif', 'predict', 'cluster', 'associ', 'method', 'applic', 'commerc', 'secur', 'bioinformat']\n",
      "['automated', 'discovery', 'knowledge', 'databases', 'representation', 'evaluation', 'formalization', 'knowledge', 'discovery', 'classification', 'prediction', 'clustering', 'association', 'methods', 'applications', 'commerce', 'security', 'bioinformatics']\n"
     ]
    }
   ],
   "source": [
    "l, p = Keywords(alda).fetch()\n",
    "print(p)\n",
    "print(l)"
   ]
  },
  {
   "cell_type": "code",
   "execution_count": 22,
   "metadata": {},
   "outputs": [
    {
     "data": {
      "text/plain": [
       "{'applic',\n",
       " 'associ',\n",
       " 'autom',\n",
       " 'bioinformat',\n",
       " 'classif',\n",
       " 'cluster',\n",
       " 'commerc',\n",
       " 'databas',\n",
       " 'discoveri',\n",
       " 'evalu',\n",
       " 'formal',\n",
       " 'knowledg',\n",
       " 'method',\n",
       " 'predict',\n",
       " 'represent',\n",
       " 'secur'}"
      ]
     },
     "execution_count": 22,
     "metadata": {},
     "output_type": "execute_result"
    }
   ],
   "source": [
    "set(p)"
   ]
  },
  {
   "cell_type": "code",
   "execution_count": 23,
   "metadata": {},
   "outputs": [],
   "source": [
    "p = set(p)"
   ]
  },
  {
   "cell_type": "code",
   "execution_count": 24,
   "metadata": {},
   "outputs": [],
   "source": [
    "from collections import defaultdict\n",
    "d = defaultdict()\n",
    "for i in p:\n",
    "    if i in d:\n",
    "        d[i].append('CSC522')\n",
    "    else:\n",
    "        d[i] = ['CSC522']"
   ]
  },
  {
   "cell_type": "code",
   "execution_count": 25,
   "metadata": {},
   "outputs": [
    {
     "data": {
      "text/plain": [
       "defaultdict(None,\n",
       "            {'applic': ['CSC522'],\n",
       "             'associ': ['CSC522'],\n",
       "             'autom': ['CSC522'],\n",
       "             'bioinformat': ['CSC522'],\n",
       "             'classif': ['CSC522'],\n",
       "             'cluster': ['CSC522'],\n",
       "             'commerc': ['CSC522'],\n",
       "             'databas': ['CSC522'],\n",
       "             'discoveri': ['CSC522'],\n",
       "             'evalu': ['CSC522'],\n",
       "             'formal': ['CSC522'],\n",
       "             'knowledg': ['CSC522'],\n",
       "             'method': ['CSC522'],\n",
       "             'predict': ['CSC522'],\n",
       "             'represent': ['CSC522'],\n",
       "             'secur': ['CSC522']})"
      ]
     },
     "execution_count": 25,
     "metadata": {},
     "output_type": "execute_result"
    }
   ],
   "source": [
    "d"
   ]
  },
  {
   "cell_type": "code",
   "execution_count": 26,
   "metadata": {},
   "outputs": [],
   "source": [
    "import pandas as pd\n",
    "df = pd.DataFrame().from_dict(d)"
   ]
  },
  {
   "cell_type": "code",
   "execution_count": 27,
   "metadata": {},
   "outputs": [
    {
     "data": {
      "text/html": [
       "<div>\n",
       "<style scoped>\n",
       "    .dataframe tbody tr th:only-of-type {\n",
       "        vertical-align: middle;\n",
       "    }\n",
       "\n",
       "    .dataframe tbody tr th {\n",
       "        vertical-align: top;\n",
       "    }\n",
       "\n",
       "    .dataframe thead th {\n",
       "        text-align: right;\n",
       "    }\n",
       "</style>\n",
       "<table border=\"1\" class=\"dataframe\">\n",
       "  <thead>\n",
       "    <tr style=\"text-align: right;\">\n",
       "      <th></th>\n",
       "      <th>applic</th>\n",
       "      <th>associ</th>\n",
       "      <th>autom</th>\n",
       "      <th>bioinformat</th>\n",
       "      <th>classif</th>\n",
       "      <th>cluster</th>\n",
       "      <th>commerc</th>\n",
       "      <th>databas</th>\n",
       "      <th>discoveri</th>\n",
       "      <th>evalu</th>\n",
       "      <th>formal</th>\n",
       "      <th>knowledg</th>\n",
       "      <th>method</th>\n",
       "      <th>predict</th>\n",
       "      <th>represent</th>\n",
       "      <th>secur</th>\n",
       "    </tr>\n",
       "  </thead>\n",
       "  <tbody>\n",
       "    <tr>\n",
       "      <th>0</th>\n",
       "      <td>CSC522</td>\n",
       "      <td>CSC522</td>\n",
       "      <td>CSC522</td>\n",
       "      <td>CSC522</td>\n",
       "      <td>CSC522</td>\n",
       "      <td>CSC522</td>\n",
       "      <td>CSC522</td>\n",
       "      <td>CSC522</td>\n",
       "      <td>CSC522</td>\n",
       "      <td>CSC522</td>\n",
       "      <td>CSC522</td>\n",
       "      <td>CSC522</td>\n",
       "      <td>CSC522</td>\n",
       "      <td>CSC522</td>\n",
       "      <td>CSC522</td>\n",
       "      <td>CSC522</td>\n",
       "    </tr>\n",
       "  </tbody>\n",
       "</table>\n",
       "</div>"
      ],
      "text/plain": [
       "   applic  associ   autom bioinformat classif cluster commerc databas  \\\n",
       "0  CSC522  CSC522  CSC522      CSC522  CSC522  CSC522  CSC522  CSC522   \n",
       "\n",
       "  discoveri   evalu  formal knowledg  method predict represent   secur  \n",
       "0    CSC522  CSC522  CSC522   CSC522  CSC522  CSC522    CSC522  CSC522  "
      ]
     },
     "execution_count": 27,
     "metadata": {},
     "output_type": "execute_result"
    }
   ],
   "source": [
    "df"
   ]
  },
  {
   "cell_type": "code",
   "execution_count": 28,
   "metadata": {},
   "outputs": [
    {
     "data": {
      "text/html": [
       "<div>\n",
       "<style scoped>\n",
       "    .dataframe tbody tr th:only-of-type {\n",
       "        vertical-align: middle;\n",
       "    }\n",
       "\n",
       "    .dataframe tbody tr th {\n",
       "        vertical-align: top;\n",
       "    }\n",
       "\n",
       "    .dataframe thead th {\n",
       "        text-align: right;\n",
       "    }\n",
       "</style>\n",
       "<table border=\"1\" class=\"dataframe\">\n",
       "  <thead>\n",
       "    <tr style=\"text-align: right;\">\n",
       "      <th></th>\n",
       "      <th>evalu</th>\n",
       "      <th>classif</th>\n",
       "      <th>associ</th>\n",
       "      <th>commerc</th>\n",
       "      <th>autom</th>\n",
       "      <th>formal</th>\n",
       "      <th>applic</th>\n",
       "      <th>bioinformat</th>\n",
       "      <th>cluster</th>\n",
       "      <th>databas</th>\n",
       "      <th>discoveri</th>\n",
       "      <th>method</th>\n",
       "      <th>secur</th>\n",
       "      <th>represent</th>\n",
       "      <th>knowledg</th>\n",
       "      <th>predict</th>\n",
       "    </tr>\n",
       "  </thead>\n",
       "  <tbody>\n",
       "    <tr>\n",
       "      <th>0</th>\n",
       "      <td>CSC522</td>\n",
       "      <td>CSC522</td>\n",
       "      <td>CSC522</td>\n",
       "      <td>CSC522</td>\n",
       "      <td>CSC522</td>\n",
       "      <td>CSC522</td>\n",
       "      <td>CSC522</td>\n",
       "      <td>CSC522</td>\n",
       "      <td>CSC522</td>\n",
       "      <td>CSC522</td>\n",
       "      <td>CSC522</td>\n",
       "      <td>CSC522</td>\n",
       "      <td>CSC522</td>\n",
       "      <td>CSC522</td>\n",
       "      <td>CSC522</td>\n",
       "      <td>CSC522</td>\n",
       "    </tr>\n",
       "    <tr>\n",
       "      <th>1</th>\n",
       "      <td>None</td>\n",
       "      <td>None</td>\n",
       "      <td>None</td>\n",
       "      <td>None</td>\n",
       "      <td>None</td>\n",
       "      <td>None</td>\n",
       "      <td>None</td>\n",
       "      <td>None</td>\n",
       "      <td>None</td>\n",
       "      <td>None</td>\n",
       "      <td>None</td>\n",
       "      <td>None</td>\n",
       "      <td>None</td>\n",
       "      <td>None</td>\n",
       "      <td>None</td>\n",
       "      <td>CSC501</td>\n",
       "    </tr>\n",
       "  </tbody>\n",
       "</table>\n",
       "</div>"
      ],
      "text/plain": [
       "    evalu classif  associ commerc   autom  formal  applic bioinformat cluster  \\\n",
       "0  CSC522  CSC522  CSC522  CSC522  CSC522  CSC522  CSC522      CSC522  CSC522   \n",
       "1    None    None    None    None    None    None    None        None    None   \n",
       "\n",
       "  databas discoveri  method   secur represent knowledg predict  \n",
       "0  CSC522    CSC522  CSC522  CSC522    CSC522   CSC522  CSC522  \n",
       "1    None      None    None    None      None     None  CSC501  "
      ]
     },
     "execution_count": 28,
     "metadata": {},
     "output_type": "execute_result"
    }
   ],
   "source": [
    "d['predict'].append('CSC501')\n",
    "df = pd.DataFrame().from_dict(d,orient='index').transpose()\n",
    "df"
   ]
  },
  {
   "cell_type": "code",
   "execution_count": 29,
   "metadata": {},
   "outputs": [
    {
     "name": "stdout",
     "output_type": "stream",
     "text": [
      "Authentication Successful.\n"
     ]
    }
   ],
   "source": [
    "import db_scripts\n",
    "all_courses = db_scripts.db_fetch_all(\"wolfpal\", \"courses\")"
   ]
  },
  {
   "cell_type": "code",
   "execution_count": 30,
   "metadata": {},
   "outputs": [],
   "source": [
    "from collections import defaultdict\n",
    "d = defaultdict()"
   ]
  },
  {
   "cell_type": "code",
   "execution_count": 31,
   "metadata": {},
   "outputs": [],
   "source": [
    "for course in all_courses:\n",
    "    l, p = Keywords(course['desc']).fetch()\n",
    "    # print(course['desc'])\n",
    "    p = set(p)\n",
    "    for i in p:\n",
    "        if i in d:\n",
    "            d[i].append(course['branch']+course['number'])\n",
    "        else:\n",
    "            d[i] = [(course['branch']+course['number'])]"
   ]
  },
  {
   "cell_type": "code",
   "execution_count": 69,
   "metadata": {},
   "outputs": [],
   "source": [
    "d"
   ]
  },
  {
   "cell_type": "code",
   "execution_count": 33,
   "metadata": {},
   "outputs": [],
   "source": [
    "import pandas as pd\n",
    "df = pd.DataFrame().from_dict(d,orient='index').transpose()"
   ]
  },
  {
   "cell_type": "code",
   "execution_count": 34,
   "metadata": {},
   "outputs": [
    {
     "data": {
      "text/html": [
       "<div>\n",
       "<style scoped>\n",
       "    .dataframe tbody tr th:only-of-type {\n",
       "        vertical-align: middle;\n",
       "    }\n",
       "\n",
       "    .dataframe tbody tr th {\n",
       "        vertical-align: top;\n",
       "    }\n",
       "\n",
       "    .dataframe thead th {\n",
       "        text-align: right;\n",
       "    }\n",
       "</style>\n",
       "<table border=\"1\" class=\"dataframe\">\n",
       "  <thead>\n",
       "    <tr style=\"text-align: right;\">\n",
       "      <th></th>\n",
       "      <th>system</th>\n",
       "      <th>element</th>\n",
       "      <th>design</th>\n",
       "      <th>distribut</th>\n",
       "      <th>manag</th>\n",
       "      <th>deadlock</th>\n",
       "      <th>relat</th>\n",
       "      <th>schedul</th>\n",
       "      <th>memori</th>\n",
       "      <th>issu</th>\n",
       "      <th>...</th>\n",
       "      <th>program</th>\n",
       "      <th>prove</th>\n",
       "      <th>techniqu</th>\n",
       "      <th>represent</th>\n",
       "      <th>artifici</th>\n",
       "      <th>databas</th>\n",
       "      <th>intellig</th>\n",
       "      <th>natur</th>\n",
       "      <th>knowledg</th>\n",
       "      <th>space</th>\n",
       "    </tr>\n",
       "  </thead>\n",
       "  <tbody>\n",
       "    <tr>\n",
       "      <th>0</th>\n",
       "      <td>CSC501</td>\n",
       "      <td>CSC501</td>\n",
       "      <td>CSC501</td>\n",
       "      <td>CSC501</td>\n",
       "      <td>CSC501</td>\n",
       "      <td>CSC501</td>\n",
       "      <td>CSC501</td>\n",
       "      <td>CSC501</td>\n",
       "      <td>CSC501</td>\n",
       "      <td>CSC501</td>\n",
       "      <td>...</td>\n",
       "      <td>CSC520</td>\n",
       "      <td>CSC520</td>\n",
       "      <td>CSC520</td>\n",
       "      <td>CSC520</td>\n",
       "      <td>CSC520</td>\n",
       "      <td>CSC520</td>\n",
       "      <td>CSC520</td>\n",
       "      <td>CSC520</td>\n",
       "      <td>CSC520</td>\n",
       "      <td>CSC520</td>\n",
       "    </tr>\n",
       "    <tr>\n",
       "      <th>1</th>\n",
       "      <td>CSC520</td>\n",
       "      <td>CSC520</td>\n",
       "      <td>CSC510</td>\n",
       "      <td>None</td>\n",
       "      <td>CSC510</td>\n",
       "      <td>None</td>\n",
       "      <td>CSC541</td>\n",
       "      <td>CSC510</td>\n",
       "      <td>None</td>\n",
       "      <td>None</td>\n",
       "      <td>...</td>\n",
       "      <td>None</td>\n",
       "      <td>None</td>\n",
       "      <td>None</td>\n",
       "      <td>None</td>\n",
       "      <td>None</td>\n",
       "      <td>None</td>\n",
       "      <td>None</td>\n",
       "      <td>None</td>\n",
       "      <td>None</td>\n",
       "      <td>None</td>\n",
       "    </tr>\n",
       "    <tr>\n",
       "      <th>2</th>\n",
       "      <td>None</td>\n",
       "      <td>None</td>\n",
       "      <td>CSC541</td>\n",
       "      <td>None</td>\n",
       "      <td>None</td>\n",
       "      <td>None</td>\n",
       "      <td>None</td>\n",
       "      <td>None</td>\n",
       "      <td>None</td>\n",
       "      <td>None</td>\n",
       "      <td>...</td>\n",
       "      <td>None</td>\n",
       "      <td>None</td>\n",
       "      <td>None</td>\n",
       "      <td>None</td>\n",
       "      <td>None</td>\n",
       "      <td>None</td>\n",
       "      <td>None</td>\n",
       "      <td>None</td>\n",
       "      <td>None</td>\n",
       "      <td>None</td>\n",
       "    </tr>\n",
       "  </tbody>\n",
       "</table>\n",
       "<p>3 rows × 98 columns</p>\n",
       "</div>"
      ],
      "text/plain": [
       "   system element  design distribut   manag deadlock   relat schedul  memori  \\\n",
       "0  CSC501  CSC501  CSC501    CSC501  CSC501   CSC501  CSC501  CSC501  CSC501   \n",
       "1  CSC520  CSC520  CSC510      None  CSC510     None  CSC541  CSC510    None   \n",
       "2    None    None  CSC541      None    None     None    None    None    None   \n",
       "\n",
       "     issu   ...   program   prove techniqu represent artifici databas  \\\n",
       "0  CSC501   ...    CSC520  CSC520   CSC520    CSC520   CSC520  CSC520   \n",
       "1    None   ...      None    None     None      None     None    None   \n",
       "2    None   ...      None    None     None      None     None    None   \n",
       "\n",
       "  intellig   natur knowledg   space  \n",
       "0   CSC520  CSC520   CSC520  CSC520  \n",
       "1     None    None     None    None  \n",
       "2     None    None     None    None  \n",
       "\n",
       "[3 rows x 98 columns]"
      ]
     },
     "execution_count": 34,
     "metadata": {},
     "output_type": "execute_result"
    }
   ],
   "source": [
    "df"
   ]
  },
  {
   "cell_type": "code",
   "execution_count": 35,
   "metadata": {},
   "outputs": [
    {
     "name": "stdout",
     "output_type": "stream",
     "text": [
      "['AI', 'system']\n"
     ]
    }
   ],
   "source": [
    "usersays = \"I like AI and systems\"\n",
    "p,l = Keywords(usersays).fetch()\n",
    "print(l)"
   ]
  },
  {
   "cell_type": "code",
   "execution_count": 36,
   "metadata": {},
   "outputs": [
    {
     "name": "stdout",
     "output_type": "stream",
     "text": [
      "Yeh course le:  ['CSC520']\n",
      "Yeh course le:  ['CSC501', 'CSC520']\n"
     ]
    }
   ],
   "source": [
    "for i in l:\n",
    "    if i in d:\n",
    "        print(\"Yeh course le: \",d[i])"
   ]
  },
  {
   "cell_type": "code",
   "execution_count": 62,
   "metadata": {},
   "outputs": [],
   "source": [
    "s = set()\n",
    "s.add(1)\n",
    "s.add(2)\n",
    "s.add(3)\n",
    "s.add(4)\n",
    "s.add(5)\n",
    "\n",
    "s1 = set()\n",
    "s1.add(1)\n",
    "s1.add(2)\n",
    "s1.add(7)\n",
    "s1.add(4)\n",
    "s1.add(6)"
   ]
  },
  {
   "cell_type": "code",
   "execution_count": 64,
   "metadata": {},
   "outputs": [
    {
     "data": {
      "text/plain": [
       "set"
      ]
     },
     "execution_count": 64,
     "metadata": {},
     "output_type": "execute_result"
    }
   ],
   "source": [
    "type(s.intersection(s1))"
   ]
  },
  {
   "cell_type": "code",
   "execution_count": 67,
   "metadata": {},
   "outputs": [],
   "source": [
    "x = list(s.intersection(s1))"
   ]
  },
  {
   "cell_type": "code",
   "execution_count": 68,
   "metadata": {},
   "outputs": [
    {
     "data": {
      "text/plain": [
       "[1, 2, 4]"
      ]
     },
     "execution_count": 68,
     "metadata": {},
     "output_type": "execute_result"
    }
   ],
   "source": [
    "x"
   ]
  },
  {
   "cell_type": "code",
   "execution_count": 155,
   "metadata": {},
   "outputs": [
    {
     "data": {
      "text/plain": [
       "[]"
      ]
     },
     "execution_count": 155,
     "metadata": {},
     "output_type": "execute_result"
    }
   ],
   "source": [
    "topic = [['tableau',\n",
    "                   'cluster',\n",
    "                   'python',\n",
    "                   'analyt',\n",
    "                   'associ',\n",
    "                   'mine',\n",
    "                   'supervis',\n",
    "                   'classif',\n",
    "                   'bioinformat',\n",
    "                   'predict',\n",
    "                   'data',\n",
    "                   'unsupervis',\n",
    "                   'learn',\n",
    "                   'machin',\n",
    "                   'regress',\n",
    "                   'artifici',\n",
    "                   'databas',\n",
    "                   'visual',\n",
    "                   'intellig',\n",
    "                   'discoveri',\n",
    "                   'knowledg']]\n",
    "lemma = ['autom', 'discoveri', 'knowledg', 'databas', 'represent', 'evalu', 'formal', 'knowledg', 'discoveri', 'classif', 'predict', 'cluster', 'associ', 'method', 'applic', 'commerc', 'secur', 'bioinformat']\n",
    "mapping = [value for value in topic if value in lemma]\n",
    "mapping"
   ]
  },
  {
   "cell_type": "code",
   "execution_count": 175,
   "metadata": {},
   "outputs": [],
   "source": [
    "l = [12,34]\n",
    "l1 = [33,4]\n",
    "z = zip(l,l1)"
   ]
  },
  {
   "cell_type": "code",
   "execution_count": 177,
   "metadata": {},
   "outputs": [],
   "source": [
    "l3 = [j for i in zip(l,l1) for j in i]"
   ]
  },
  {
   "cell_type": "markdown",
   "metadata": {},
   "source": [
    "l3"
   ]
  },
  {
   "cell_type": "code",
   "execution_count": 178,
   "metadata": {},
   "outputs": [
    {
     "data": {
      "text/plain": [
       "[12, 33, 34, 4]"
      ]
     },
     "execution_count": 178,
     "metadata": {},
     "output_type": "execute_result"
    }
   ],
   "source": [
    "l3"
   ]
  },
  {
   "cell_type": "code",
   "execution_count": null,
   "metadata": {},
   "outputs": [],
   "source": []
  }
 ],
 "metadata": {
  "kernelspec": {
   "display_name": "Python 3",
   "language": "python",
   "name": "python3"
  },
  "language_info": {
   "codemirror_mode": {
    "name": "ipython",
    "version": 3
   },
   "file_extension": ".py",
   "mimetype": "text/x-python",
   "name": "python",
   "nbconvert_exporter": "python",
   "pygments_lexer": "ipython3",
   "version": "3.6.4"
  }
 },
 "nbformat": 4,
 "nbformat_minor": 2
}

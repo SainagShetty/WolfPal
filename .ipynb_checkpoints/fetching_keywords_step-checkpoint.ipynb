{
 "cells": [
  {
   "cell_type": "code",
   "execution_count": 7,
   "metadata": {},
   "outputs": [],
   "source": [
    "from nltk.corpus import stopwords\n",
    "from nltk.tokenize import word_tokenize\n",
    "from nltk.tokenize import RegexpTokenizer\n",
    "from nltk import pos_tag\n",
    "from nltk.stem import PorterStemmer, WordNetLemmatizer\n",
    "import re\n",
    "import nltk\n",
    "import pprint as pp\n",
    "import db_scripts"
   ]
  },
  {
   "cell_type": "code",
   "execution_count": 8,
   "metadata": {},
   "outputs": [],
   "source": [
    "def load_stop_words(stop_word_file):\n",
    "    stop_words = []\n",
    "    fo = open(stop_word_file)\n",
    "    for line in fo:\n",
    "        if line.strip()[0:1] != \"#\":\n",
    "            for word in line.split():  # in case more than one per line\n",
    "                stop_words.append(word)\n",
    "    fo.close()\n",
    "    return stop_words"
   ]
  },
  {
   "cell_type": "code",
   "execution_count": null,
   "metadata": {},
   "outputs": [],
   "source": [
    "def load_keywords_from_bucket(keyword_file):\n",
    "    word_map = dict()\n",
    "    file = open(keyword_file)\n",
    "    for line in file:\n",
    "        key = line.strip(':')"
   ]
  },
  {
   "cell_type": "code",
   "execution_count": 9,
   "metadata": {},
   "outputs": [],
   "source": [
    "def remove_puncts(text):\n",
    "    tokenizer = RegexpTokenizer(r'\\w+')\n",
    "    words_no_punct = tokenizer.tokenize(text)\n",
    "    data = ' '.join(words_no_punct)\n",
    "    return data"
   ]
  },
  {
   "cell_type": "code",
   "execution_count": 10,
   "metadata": {},
   "outputs": [],
   "source": [
    "def is_number(s):\n",
    "    try:\n",
    "        float(s) if '.' in s else int(s)\n",
    "        return True\n",
    "    except ValueError:\n",
    "        return False"
   ]
  },
  {
   "cell_type": "code",
   "execution_count": 11,
   "metadata": {},
   "outputs": [],
   "source": [
    "def generate_candidate_keywords(data, stop_words):\n",
    "    words = [w for w in word_tokenize(\n",
    "        data) if w.lower() not in stop_words and not is_number(w)]\n",
    "    return words"
   ]
  },
  {
   "cell_type": "code",
   "execution_count": 18,
   "metadata": {},
   "outputs": [],
   "source": [
    "def stem_lemmatize(keywords):\n",
    "    lemmatizer = WordNetLemmatizer()\n",
    "    stemmer = PorterStemmer()\n",
    "    tokenizer = RegexpTokenizer(r'\\w+')\n",
    "#     table.column_headers = [\"Actual\", \"Lemmatize\", \"Stem\"]\n",
    "    x = []\n",
    "    y = []\n",
    "    for word in keywords:\n",
    "        x.append(stemmer.stem(word))\n",
    "        y.append(lemmatizer.lemmatize(word))\n",
    "    return x"
   ]
  },
  {
   "cell_type": "code",
   "execution_count": 19,
   "metadata": {},
   "outputs": [],
   "source": [
    "alda = \"Introduction to the problems and techniques for automated discovery of knowledge in databases. Topics include representation, evaluation, and formalization of knowledge for discovery; classification, prediction, clustering, and association methods.Selected applications in commerce, security, and bioinformatics. Students cannot get credit for both CSC 422 and CSC 522.\""
   ]
  },
  {
   "cell_type": "code",
   "execution_count": 20,
   "metadata": {},
   "outputs": [],
   "source": [
    "class Keywords:\n",
    "    def __init__(self, text):\n",
    "        self.text = text\n",
    "        self.stop_words = load_stop_words(\"FoxStopList.txt\")\n",
    "\n",
    "    def fetch(self):\n",
    "        candidate = remove_puncts(self.text)\n",
    "        keywords = generate_candidate_keywords(candidate, self.stop_words)\n",
    "        # table = stem_lemmatize(keywords)\n",
    "        st = stem_lemmatize(keywords)\n",
    "        return keywords, st"
   ]
  },
  {
   "cell_type": "code",
   "execution_count": 21,
   "metadata": {},
   "outputs": [
    {
     "name": "stdout",
     "output_type": "stream",
     "text": [
      "['autom', 'discoveri', 'knowledg', 'databas', 'represent', 'evalu', 'formal', 'knowledg', 'discoveri', 'classif', 'predict', 'cluster', 'associ', 'method', 'applic', 'commerc', 'secur', 'bioinformat']\n"
     ]
    }
   ],
   "source": [
    "l, p = Keywords(alda).fetch()\n",
    "print(p)"
   ]
  },
  {
   "cell_type": "code",
   "execution_count": 22,
   "metadata": {},
   "outputs": [
    {
     "data": {
      "text/plain": [
       "{'applic',\n",
       " 'associ',\n",
       " 'autom',\n",
       " 'bioinformat',\n",
       " 'classif',\n",
       " 'cluster',\n",
       " 'commerc',\n",
       " 'databas',\n",
       " 'discoveri',\n",
       " 'evalu',\n",
       " 'formal',\n",
       " 'knowledg',\n",
       " 'method',\n",
       " 'predict',\n",
       " 'represent',\n",
       " 'secur'}"
      ]
     },
     "execution_count": 22,
     "metadata": {},
     "output_type": "execute_result"
    }
   ],
   "source": [
    "set(p)"
   ]
  },
  {
   "cell_type": "code",
   "execution_count": 23,
   "metadata": {},
   "outputs": [],
   "source": [
    "p = set(p)"
   ]
  },
  {
   "cell_type": "code",
   "execution_count": 26,
   "metadata": {},
   "outputs": [],
   "source": [
    "from collections import defaultdict\n",
    "d = defaultdict()\n",
    "for i in p:\n",
    "    if i in d:\n",
    "        d[i].append('CSC522')\n",
    "    else:\n",
    "        d[i] = ['CSC522']"
   ]
  },
  {
   "cell_type": "code",
   "execution_count": 27,
   "metadata": {},
   "outputs": [
    {
     "data": {
      "text/plain": [
       "defaultdict(None,\n",
       "            {'predict': ['CSC522'],\n",
       "             'knowledg': ['CSC522'],\n",
       "             'commerc': ['CSC522'],\n",
       "             'secur': ['CSC522'],\n",
       "             'classif': ['CSC522'],\n",
       "             'formal': ['CSC522'],\n",
       "             'associ': ['CSC522'],\n",
       "             'method': ['CSC522'],\n",
       "             'evalu': ['CSC522'],\n",
       "             'cluster': ['CSC522'],\n",
       "             'applic': ['CSC522'],\n",
       "             'discoveri': ['CSC522'],\n",
       "             'bioinformat': ['CSC522'],\n",
       "             'databas': ['CSC522'],\n",
       "             'represent': ['CSC522'],\n",
       "             'autom': ['CSC522']})"
      ]
     },
     "execution_count": 27,
     "metadata": {},
     "output_type": "execute_result"
    }
   ],
   "source": [
    "d"
   ]
  },
  {
   "cell_type": "code",
   "execution_count": 29,
   "metadata": {},
   "outputs": [],
   "source": [
    "import pandas as pd\n",
    "df = pd.DataFrame().from_dict(d)"
   ]
  },
  {
   "cell_type": "code",
   "execution_count": 30,
   "metadata": {},
   "outputs": [
    {
     "data": {
      "text/html": [
       "<div>\n",
       "<style scoped>\n",
       "    .dataframe tbody tr th:only-of-type {\n",
       "        vertical-align: middle;\n",
       "    }\n",
       "\n",
       "    .dataframe tbody tr th {\n",
       "        vertical-align: top;\n",
       "    }\n",
       "\n",
       "    .dataframe thead th {\n",
       "        text-align: right;\n",
       "    }\n",
       "</style>\n",
       "<table border=\"1\" class=\"dataframe\">\n",
       "  <thead>\n",
       "    <tr style=\"text-align: right;\">\n",
       "      <th></th>\n",
       "      <th>applic</th>\n",
       "      <th>associ</th>\n",
       "      <th>autom</th>\n",
       "      <th>bioinformat</th>\n",
       "      <th>classif</th>\n",
       "      <th>cluster</th>\n",
       "      <th>commerc</th>\n",
       "      <th>databas</th>\n",
       "      <th>discoveri</th>\n",
       "      <th>evalu</th>\n",
       "      <th>formal</th>\n",
       "      <th>knowledg</th>\n",
       "      <th>method</th>\n",
       "      <th>predict</th>\n",
       "      <th>represent</th>\n",
       "      <th>secur</th>\n",
       "    </tr>\n",
       "  </thead>\n",
       "  <tbody>\n",
       "    <tr>\n",
       "      <th>0</th>\n",
       "      <td>CSC522</td>\n",
       "      <td>CSC522</td>\n",
       "      <td>CSC522</td>\n",
       "      <td>CSC522</td>\n",
       "      <td>CSC522</td>\n",
       "      <td>CSC522</td>\n",
       "      <td>CSC522</td>\n",
       "      <td>CSC522</td>\n",
       "      <td>CSC522</td>\n",
       "      <td>CSC522</td>\n",
       "      <td>CSC522</td>\n",
       "      <td>CSC522</td>\n",
       "      <td>CSC522</td>\n",
       "      <td>CSC522</td>\n",
       "      <td>CSC522</td>\n",
       "      <td>CSC522</td>\n",
       "    </tr>\n",
       "  </tbody>\n",
       "</table>\n",
       "</div>"
      ],
      "text/plain": [
       "   applic  associ   autom bioinformat classif cluster commerc databas  \\\n",
       "0  CSC522  CSC522  CSC522      CSC522  CSC522  CSC522  CSC522  CSC522   \n",
       "\n",
       "  discoveri   evalu  formal knowledg  method predict represent   secur  \n",
       "0    CSC522  CSC522  CSC522   CSC522  CSC522  CSC522    CSC522  CSC522  "
      ]
     },
     "execution_count": 30,
     "metadata": {},
     "output_type": "execute_result"
    }
   ],
   "source": [
    "df"
   ]
  },
  {
   "cell_type": "code",
   "execution_count": 33,
   "metadata": {},
   "outputs": [
    {
     "data": {
      "text/html": [
       "<div>\n",
       "<style scoped>\n",
       "    .dataframe tbody tr th:only-of-type {\n",
       "        vertical-align: middle;\n",
       "    }\n",
       "\n",
       "    .dataframe tbody tr th {\n",
       "        vertical-align: top;\n",
       "    }\n",
       "\n",
       "    .dataframe thead th {\n",
       "        text-align: right;\n",
       "    }\n",
       "</style>\n",
       "<table border=\"1\" class=\"dataframe\">\n",
       "  <thead>\n",
       "    <tr style=\"text-align: right;\">\n",
       "      <th></th>\n",
       "      <th>predict</th>\n",
       "      <th>knowledg</th>\n",
       "      <th>commerc</th>\n",
       "      <th>secur</th>\n",
       "      <th>classif</th>\n",
       "      <th>formal</th>\n",
       "      <th>associ</th>\n",
       "      <th>method</th>\n",
       "      <th>evalu</th>\n",
       "      <th>cluster</th>\n",
       "      <th>applic</th>\n",
       "      <th>discoveri</th>\n",
       "      <th>bioinformat</th>\n",
       "      <th>databas</th>\n",
       "      <th>represent</th>\n",
       "      <th>autom</th>\n",
       "    </tr>\n",
       "  </thead>\n",
       "  <tbody>\n",
       "    <tr>\n",
       "      <th>0</th>\n",
       "      <td>CSC522</td>\n",
       "      <td>CSC522</td>\n",
       "      <td>CSC522</td>\n",
       "      <td>CSC522</td>\n",
       "      <td>CSC522</td>\n",
       "      <td>CSC522</td>\n",
       "      <td>CSC522</td>\n",
       "      <td>CSC522</td>\n",
       "      <td>CSC522</td>\n",
       "      <td>CSC522</td>\n",
       "      <td>CSC522</td>\n",
       "      <td>CSC522</td>\n",
       "      <td>CSC522</td>\n",
       "      <td>CSC522</td>\n",
       "      <td>CSC522</td>\n",
       "      <td>CSC522</td>\n",
       "    </tr>\n",
       "    <tr>\n",
       "      <th>1</th>\n",
       "      <td>CSC501</td>\n",
       "      <td>None</td>\n",
       "      <td>None</td>\n",
       "      <td>None</td>\n",
       "      <td>None</td>\n",
       "      <td>None</td>\n",
       "      <td>None</td>\n",
       "      <td>None</td>\n",
       "      <td>None</td>\n",
       "      <td>None</td>\n",
       "      <td>None</td>\n",
       "      <td>None</td>\n",
       "      <td>None</td>\n",
       "      <td>None</td>\n",
       "      <td>None</td>\n",
       "      <td>None</td>\n",
       "    </tr>\n",
       "    <tr>\n",
       "      <th>2</th>\n",
       "      <td>CSC501</td>\n",
       "      <td>None</td>\n",
       "      <td>None</td>\n",
       "      <td>None</td>\n",
       "      <td>None</td>\n",
       "      <td>None</td>\n",
       "      <td>None</td>\n",
       "      <td>None</td>\n",
       "      <td>None</td>\n",
       "      <td>None</td>\n",
       "      <td>None</td>\n",
       "      <td>None</td>\n",
       "      <td>None</td>\n",
       "      <td>None</td>\n",
       "      <td>None</td>\n",
       "      <td>None</td>\n",
       "    </tr>\n",
       "    <tr>\n",
       "      <th>3</th>\n",
       "      <td>CSC501</td>\n",
       "      <td>None</td>\n",
       "      <td>None</td>\n",
       "      <td>None</td>\n",
       "      <td>None</td>\n",
       "      <td>None</td>\n",
       "      <td>None</td>\n",
       "      <td>None</td>\n",
       "      <td>None</td>\n",
       "      <td>None</td>\n",
       "      <td>None</td>\n",
       "      <td>None</td>\n",
       "      <td>None</td>\n",
       "      <td>None</td>\n",
       "      <td>None</td>\n",
       "      <td>None</td>\n",
       "    </tr>\n",
       "  </tbody>\n",
       "</table>\n",
       "</div>"
      ],
      "text/plain": [
       "  predict knowledg commerc   secur classif  formal  associ  method   evalu  \\\n",
       "0  CSC522   CSC522  CSC522  CSC522  CSC522  CSC522  CSC522  CSC522  CSC522   \n",
       "1  CSC501     None    None    None    None    None    None    None    None   \n",
       "2  CSC501     None    None    None    None    None    None    None    None   \n",
       "3  CSC501     None    None    None    None    None    None    None    None   \n",
       "\n",
       "  cluster  applic discoveri bioinformat databas represent   autom  \n",
       "0  CSC522  CSC522    CSC522      CSC522  CSC522    CSC522  CSC522  \n",
       "1    None    None      None        None    None      None    None  \n",
       "2    None    None      None        None    None      None    None  \n",
       "3    None    None      None        None    None      None    None  "
      ]
     },
     "execution_count": 33,
     "metadata": {},
     "output_type": "execute_result"
    }
   ],
   "source": [
    "d['predict'].append('CSC501')\n",
    "df = pd.DataFrame().from_dict(d,orient='index').transpose()\n",
    "df"
   ]
  },
  {
   "cell_type": "code",
   "execution_count": 37,
   "metadata": {},
   "outputs": [
    {
     "name": "stdout",
     "output_type": "stream",
     "text": [
      "Authentication Successful.\n"
     ]
    }
   ],
   "source": [
    "import db_scripts\n",
    "all_courses = db_scripts.db_fetch_all(\"wolfpal\", \"courses\")"
   ]
  },
  {
   "cell_type": "code",
   "execution_count": 38,
   "metadata": {},
   "outputs": [],
   "source": [
    "from collections import defaultdict\n",
    "d = defaultdict()"
   ]
  },
  {
   "cell_type": "code",
   "execution_count": 39,
   "metadata": {},
   "outputs": [],
   "source": [
    "for course in all_courses:\n",
    "    l, p = Keywords(course['desc']).fetch()\n",
    "    # print(course['desc'])\n",
    "    p = set(p)\n",
    "    for i in p:\n",
    "        if i in d:\n",
    "            d[i].append(course['branch']+course['number'])\n",
    "        else:\n",
    "            d[i] = [(course['branch']+course['number'])]"
   ]
  },
  {
   "cell_type": "code",
   "execution_count": 40,
   "metadata": {},
   "outputs": [
    {
     "data": {
      "text/plain": [
       "defaultdict(None,\n",
       "            {'fundament': ['CSC501'],\n",
       "             'system': ['CSC501', 'CSC520'],\n",
       "             'process': ['CSC501', 'CSC520'],\n",
       "             'element': ['CSC501', 'CSC520'],\n",
       "             'manag': ['CSC501', 'CSC510'],\n",
       "             'memori': ['CSC501'],\n",
       "             'schedul': ['CSC501', 'CSC510'],\n",
       "             'oper': ['CSC501'],\n",
       "             'relat': ['CSC501', 'CSC541'],\n",
       "             'distribut': ['CSC501'],\n",
       "             'coordin': ['CSC501'],\n",
       "             'issu': ['CSC501'],\n",
       "             'design': ['CSC501', 'CSC510', 'CSC541'],\n",
       "             'deadlock': ['CSC501'],\n",
       "             'test': ['CSC510'],\n",
       "             'risk': ['CSC510'],\n",
       "             'code': ['CSC510', 'CSC541'],\n",
       "             'estim': ['CSC510'],\n",
       "             'review': ['CSC510'],\n",
       "             'chang': ['CSC510'],\n",
       "             'emphasi': ['CSC510'],\n",
       "             'semest': ['CSC510'],\n",
       "             'reliabl': ['CSC510'],\n",
       "             'project': ['CSC510'],\n",
       "             'softwar': ['CSC510', 'CSC541'],\n",
       "             'develop': ['CSC510', 'CSC541'],\n",
       "             'engin': ['CSC510'],\n",
       "             'requir': ['CSC510'],\n",
       "             'practic': ['CSC510'],\n",
       "             'cost': ['CSC510'],\n",
       "             'model': ['CSC510'],\n",
       "             'formal': ['CSC510'],\n",
       "             'individu': ['CSC510'],\n",
       "             'configur': ['CSC510'],\n",
       "             'method': ['CSC510'],\n",
       "             'technic': ['CSC510'],\n",
       "             'analysi': ['CSC510'],\n",
       "             'cycl': ['CSC510'],\n",
       "             'control': ['CSC510'],\n",
       "             'follow': ['CSC510'],\n",
       "             'throughout': ['CSC510'],\n",
       "             'life': ['CSC510'],\n",
       "             'size': ['CSC510'],\n",
       "             'primari': ['CSC541'],\n",
       "             'effici': ['CSC541'],\n",
       "             'level': ['CSC541'],\n",
       "             'complex': ['CSC541'],\n",
       "             'hardwar': ['CSC541'],\n",
       "             'media': ['CSC541'],\n",
       "             'filter': ['CSC541'],\n",
       "             'collis': ['CSC541'],\n",
       "             'bloom': ['CSC541'],\n",
       "             'structur': ['CSC541'],\n",
       "             'function': ['CSC541'],\n",
       "             'relev': ['CSC541'],\n",
       "             'organ': ['CSC541'],\n",
       "             'resolut': ['CSC541'],\n",
       "             'tri': ['CSC541'],\n",
       "             'tree': ['CSC541'],\n",
       "             'signatur': ['CSC541'],\n",
       "             'storag': ['CSC541'],\n",
       "             'dynam': ['CSC541'],\n",
       "             'disjoint': ['CSC541'],\n",
       "             'hash': ['CSC541'],\n",
       "             'special': ['CSC541'],\n",
       "             'low': ['CSC541'],\n",
       "             'effect': ['CSC541'],\n",
       "             'data': ['CSC541'],\n",
       "             'characterist': ['CSC541'],\n",
       "             'file': ['CSC541'],\n",
       "             'bit': ['CSC541'],\n",
       "             'avl': ['CSC541'],\n",
       "             'superimpos': ['CSC541'],\n",
       "             'includ': ['CSC541', 'CSC520'],\n",
       "             'vision': ['CSC520'],\n",
       "             'intellig': ['CSC520'],\n",
       "             'search': ['CSC520'],\n",
       "             'theorem': ['CSC520'],\n",
       "             'associ': ['CSC520'],\n",
       "             'robot': ['CSC520'],\n",
       "             'expert': ['CSC520'],\n",
       "             'prove': ['CSC520'],\n",
       "             'overview': ['CSC520'],\n",
       "             'logic': ['CSC520'],\n",
       "             'techniqu': ['CSC520'],\n",
       "             'artifici': ['CSC520'],\n",
       "             'lisp': ['CSC520'],\n",
       "             'databas': ['CSC520'],\n",
       "             'AI': ['CSC520'],\n",
       "             'natur': ['CSC520'],\n",
       "             'knowledg': ['CSC520'],\n",
       "             'languag': ['CSC520'],\n",
       "             'solv': ['CSC520'],\n",
       "             'space': ['CSC520'],\n",
       "             'prolog': ['CSC520'],\n",
       "             'program': ['CSC520'],\n",
       "             'represent': ['CSC520'],\n",
       "             'studi': ['CSC520']})"
      ]
     },
     "execution_count": 40,
     "metadata": {},
     "output_type": "execute_result"
    }
   ],
   "source": [
    "d"
   ]
  },
  {
   "cell_type": "code",
   "execution_count": 41,
   "metadata": {},
   "outputs": [],
   "source": [
    "import pandas as pd\n",
    "df = pd.DataFrame().from_dict(d,orient='index').transpose()"
   ]
  },
  {
   "cell_type": "code",
   "execution_count": 42,
   "metadata": {},
   "outputs": [
    {
     "data": {
      "text/html": [
       "<div>\n",
       "<style scoped>\n",
       "    .dataframe tbody tr th:only-of-type {\n",
       "        vertical-align: middle;\n",
       "    }\n",
       "\n",
       "    .dataframe tbody tr th {\n",
       "        vertical-align: top;\n",
       "    }\n",
       "\n",
       "    .dataframe thead th {\n",
       "        text-align: right;\n",
       "    }\n",
       "</style>\n",
       "<table border=\"1\" class=\"dataframe\">\n",
       "  <thead>\n",
       "    <tr style=\"text-align: right;\">\n",
       "      <th></th>\n",
       "      <th>fundament</th>\n",
       "      <th>system</th>\n",
       "      <th>process</th>\n",
       "      <th>element</th>\n",
       "      <th>manag</th>\n",
       "      <th>memori</th>\n",
       "      <th>schedul</th>\n",
       "      <th>oper</th>\n",
       "      <th>relat</th>\n",
       "      <th>distribut</th>\n",
       "      <th>...</th>\n",
       "      <th>AI</th>\n",
       "      <th>natur</th>\n",
       "      <th>knowledg</th>\n",
       "      <th>languag</th>\n",
       "      <th>solv</th>\n",
       "      <th>space</th>\n",
       "      <th>prolog</th>\n",
       "      <th>program</th>\n",
       "      <th>represent</th>\n",
       "      <th>studi</th>\n",
       "    </tr>\n",
       "  </thead>\n",
       "  <tbody>\n",
       "    <tr>\n",
       "      <th>0</th>\n",
       "      <td>CSC501</td>\n",
       "      <td>CSC501</td>\n",
       "      <td>CSC501</td>\n",
       "      <td>CSC501</td>\n",
       "      <td>CSC501</td>\n",
       "      <td>CSC501</td>\n",
       "      <td>CSC501</td>\n",
       "      <td>CSC501</td>\n",
       "      <td>CSC501</td>\n",
       "      <td>CSC501</td>\n",
       "      <td>...</td>\n",
       "      <td>CSC520</td>\n",
       "      <td>CSC520</td>\n",
       "      <td>CSC520</td>\n",
       "      <td>CSC520</td>\n",
       "      <td>CSC520</td>\n",
       "      <td>CSC520</td>\n",
       "      <td>CSC520</td>\n",
       "      <td>CSC520</td>\n",
       "      <td>CSC520</td>\n",
       "      <td>CSC520</td>\n",
       "    </tr>\n",
       "    <tr>\n",
       "      <th>1</th>\n",
       "      <td>None</td>\n",
       "      <td>CSC520</td>\n",
       "      <td>CSC520</td>\n",
       "      <td>CSC520</td>\n",
       "      <td>CSC510</td>\n",
       "      <td>None</td>\n",
       "      <td>CSC510</td>\n",
       "      <td>None</td>\n",
       "      <td>CSC541</td>\n",
       "      <td>None</td>\n",
       "      <td>...</td>\n",
       "      <td>None</td>\n",
       "      <td>None</td>\n",
       "      <td>None</td>\n",
       "      <td>None</td>\n",
       "      <td>None</td>\n",
       "      <td>None</td>\n",
       "      <td>None</td>\n",
       "      <td>None</td>\n",
       "      <td>None</td>\n",
       "      <td>None</td>\n",
       "    </tr>\n",
       "    <tr>\n",
       "      <th>2</th>\n",
       "      <td>None</td>\n",
       "      <td>None</td>\n",
       "      <td>None</td>\n",
       "      <td>None</td>\n",
       "      <td>None</td>\n",
       "      <td>None</td>\n",
       "      <td>None</td>\n",
       "      <td>None</td>\n",
       "      <td>None</td>\n",
       "      <td>None</td>\n",
       "      <td>...</td>\n",
       "      <td>None</td>\n",
       "      <td>None</td>\n",
       "      <td>None</td>\n",
       "      <td>None</td>\n",
       "      <td>None</td>\n",
       "      <td>None</td>\n",
       "      <td>None</td>\n",
       "      <td>None</td>\n",
       "      <td>None</td>\n",
       "      <td>None</td>\n",
       "    </tr>\n",
       "  </tbody>\n",
       "</table>\n",
       "<p>3 rows × 98 columns</p>\n",
       "</div>"
      ],
      "text/plain": [
       "  fundament  system process element   manag  memori schedul    oper   relat  \\\n",
       "0    CSC501  CSC501  CSC501  CSC501  CSC501  CSC501  CSC501  CSC501  CSC501   \n",
       "1      None  CSC520  CSC520  CSC520  CSC510    None  CSC510    None  CSC541   \n",
       "2      None    None    None    None    None    None    None    None    None   \n",
       "\n",
       "  distribut   ...        AI   natur knowledg languag    solv   space  prolog  \\\n",
       "0    CSC501   ...    CSC520  CSC520   CSC520  CSC520  CSC520  CSC520  CSC520   \n",
       "1      None   ...      None    None     None    None    None    None    None   \n",
       "2      None   ...      None    None     None    None    None    None    None   \n",
       "\n",
       "  program represent   studi  \n",
       "0  CSC520    CSC520  CSC520  \n",
       "1    None      None    None  \n",
       "2    None      None    None  \n",
       "\n",
       "[3 rows x 98 columns]"
      ]
     },
     "execution_count": 42,
     "metadata": {},
     "output_type": "execute_result"
    }
   ],
   "source": [
    "df"
   ]
  },
  {
   "cell_type": "code",
   "execution_count": 43,
   "metadata": {},
   "outputs": [
    {
     "name": "stdout",
     "output_type": "stream",
     "text": [
      "['AI', 'system']\n"
     ]
    }
   ],
   "source": [
    "usersays = \"I like AI and systems\"\n",
    "p,l = Keywords(usersays).fetch()\n",
    "print(l)"
   ]
  },
  {
   "cell_type": "code",
   "execution_count": 47,
   "metadata": {},
   "outputs": [
    {
     "name": "stdout",
     "output_type": "stream",
     "text": [
      "Yeh course le:  ['CSC520']\n",
      "Yeh course le:  ['CSC501', 'CSC520']\n"
     ]
    }
   ],
   "source": [
    "for i in l:\n",
    "    if i in d:\n",
    "        print(\"Yeh course le: \",d[i])"
   ]
  },
  {
   "cell_type": "code",
   "execution_count": null,
   "metadata": {},
   "outputs": [],
   "source": []
  }
 ],
 "metadata": {
  "kernelspec": {
   "display_name": "Python 3",
   "language": "python",
   "name": "python3"
  },
  "language_info": {
   "codemirror_mode": {
    "name": "ipython",
    "version": 3
   },
   "file_extension": ".py",
   "mimetype": "text/x-python",
   "name": "python",
   "nbconvert_exporter": "python",
   "pygments_lexer": "ipython3",
   "version": "3.6.4"
  }
 },
 "nbformat": 4,
 "nbformat_minor": 2
}
